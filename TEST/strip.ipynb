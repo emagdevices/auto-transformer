{
 "cells": [
  {
   "cell_type": "markdown",
   "metadata": {},
   "source": [
    "## Strip Optimization"
   ]
  },
  {
   "cell_type": "markdown",
   "metadata": {},
   "source": [
    "Importing the libraries needed for running the programme"
   ]
  },
  {
   "cell_type": "code",
   "execution_count": 1,
   "metadata": {},
   "outputs": [],
   "source": [
    "# Loading libraries\n",
    "import pandas as pd\n",
    "import numpy as np\n",
    "import math \n",
    "from decimal import ROUND_DOWN, ROUND_UP\n",
    "# import data "
   ]
  },
  {
   "cell_type": "markdown",
   "metadata": {},
   "source": [
    "### Data for algorithm"
   ]
  },
  {
   "cell_type": "code",
   "execution_count": 2,
   "metadata": {},
   "outputs": [],
   "source": [
    "# Initial variables for the calculation and validation\n",
    "Frequency = 47 # Hz\n",
    "Temperature_rise_goal = 30 # degree Celcius\n",
    "Output_power = 250 # watts\n",
    "Efficiency = 95 # %\n",
    "Input_voltage = 115 # volts\n",
    "Ouptut_voltage = 115 # volts\n",
    "Regulation = 5 # in a scale of 100\n",
    "Bobbin_thickness = 1.5 \n",
    "K_f = 4.44\n",
    "K_u = 0.4\n",
    "B_ac = 1.6\n",
    "J = 250\n",
    "insulation_thickness = 0.2 #mm"
   ]
  },
  {
   "cell_type": "markdown",
   "metadata": {},
   "source": [
    "Some constants for calculation"
   ]
  },
  {
   "cell_type": "code",
   "execution_count": 3,
   "metadata": {},
   "outputs": [],
   "source": [
    "pi = np.pi #pi\n",
    "a = 1.68 # coefficients for core loss\n",
    "b = 1.86 # coefficients for core loss \n",
    "Rate_of_Cu = 950 # Rs / Kg\n",
    "Rate_of_Fe = 250 # Rs / Kg\n",
    "Resistivity_Cu =  1.68 * 10**-6 # ohm cm"
   ]
  },
  {
   "cell_type": "code",
   "execution_count": 4,
   "metadata": {},
   "outputs": [
    {
     "name": "stdout",
     "output_type": "stream",
     "text": [
      "513.1578947368421\n"
     ]
    }
   ],
   "source": [
    "Apparent_power = Output_power * (1/(0.01*Efficiency) + 1)\n",
    "print(Apparent_power)"
   ]
  },
  {
   "cell_type": "code",
   "execution_count": 5,
   "metadata": {},
   "outputs": [
    {
     "name": "stdout",
     "output_type": "stream",
     "text": [
      "153.6916255561272\n"
     ]
    }
   ],
   "source": [
    "def area_product(K_f, K_u, B_ac, J, Frequency, apparent_power):\n",
    "    \"\"\"Input Arguments:\n",
    "        Output power watts\n",
    "        Efficiency in scale of 100%\n",
    "        K_f\n",
    "        K_u\n",
    "        B_ac -> Operational flux density\n",
    "        J\n",
    "        Frequency -> in Hz\n",
    "        Apparent power in watts\n",
    "    \"\"\"\n",
    "    Area_product = (apparent_power*(10**4))/(K_f * K_u * B_ac * J * Frequency)\n",
    "    return Area_product\n",
    "\n",
    "Area_product = area_product(K_f, K_u, B_ac, J, Frequency, Apparent_power)\n",
    "print(Area_product)"
   ]
  },
  {
   "cell_type": "code",
   "execution_count": null,
   "metadata": {},
   "outputs": [],
   "source": []
  },
  {
   "cell_type": "markdown",
   "metadata": {},
   "source": [
    "## Data Collection\n",
    "\n",
    "* Lamination data\n",
    "* SWG data"
   ]
  },
  {
   "cell_type": "code",
   "execution_count": 6,
   "metadata": {},
   "outputs": [],
   "source": [
    "lamination_data = pd.read_csv('../DATA/EI-Laminations.csv')\n",
    "swg_data = pd.read_csv('../DATA/EMD - Sheet1.csv') # select the swg the data \n",
    "# lamination_data = "
   ]
  },
  {
   "cell_type": "code",
   "execution_count": 7,
   "metadata": {},
   "outputs": [
    {
     "name": "stdout",
     "output_type": "stream",
     "text": [
      "    SWG     mm CD Min mm CD Max mm  Normal Conductor Area mm²  \\\n",
      "0  10.0  3.240     3.218     3.284                    8.24479   \n",
      "1  11.0  2.946     2.917     2.975                    6.81640   \n",
      "\n",
      "   Conductor Weight for 1000m/Kg  CR Normal   CR Max     CR Min  FC Min mm  \\\n",
      "0                         73.296   0.002030  0.002090  0.001980        NaN   \n",
      "1                         60.598   0.002529  0.002579  0.002479      0.055   \n",
      "\n",
      "   FC Max mm  Medium Covering Min  Medium Covering Max  \n",
      "0        NaN                0.086                3.380  \n",
      "1      3.055                0.081                3.087  \n"
     ]
    }
   ],
   "source": [
    "import data\n",
    "\n",
    "print(data.swg_data.iloc[:2])"
   ]
  },
  {
   "cell_type": "code",
   "execution_count": 8,
   "metadata": {},
   "outputs": [],
   "source": [
    "def findSWG(Bare_area):\n",
    "    '''\n",
    "        Bare area in sqmm\n",
    "        return variables: \n",
    "            required swg dataframe, \n",
    "            diameter of insulated wire, \n",
    "            bare area of selected swg\n",
    "    '''\n",
    "    swg_data = pd.read_csv('../DATA/EMD - Sheet1.csv') # select the swg the data \n",
    "    higer_data = swg_data[Bare_area < swg_data['Normal Conductor Area mm²']]\n",
    "    required_swg_result = higer_data.iloc[(higer_data['Normal Conductor Area mm²'] - Bare_area).abs().argsort()[:1]]\n",
    "    diameter_of_insulated_wire = required_swg_result['Medium Covering Max']\n",
    "    A_wp = required_swg_result['Normal Conductor Area mm²'].max() / 100 # cm^2\n",
    "    return required_swg_result, diameter_of_insulated_wire, A_wp \n",
    "\n",
    "def bare_area(input_current, current_density):\n",
    "    '''\n",
    "        arguments: \n",
    "            input current [amps], \n",
    "            current density [amp/]\n",
    "        return variables: Bare area in sqmm\n",
    "    '''\n",
    "    a_wp = input_current / current_density\n",
    "    return a_wp* 100 \n",
    "\n",
    "Input_current = Apparent_power / (Input_voltage * 0.01*  Efficiency)\n",
    "A_wp_in_sqmm = bare_area(Input_current, J)\n",
    "required_swg_primary, diameter_of_primary_wire_with_insulation, A_wp = findSWG(A_wp_in_sqmm)\n",
    "# results\n"
   ]
  },
  {
   "cell_type": "code",
   "execution_count": 9,
   "metadata": {},
   "outputs": [
    {
     "name": "stdout",
     "output_type": "stream",
     "text": [
      "Input current 4.69709743466217 [amps]\n",
      "Calculated Priamry Bare Area: 1.8788389738648679 mm²\n",
      "Final Priamry Bare Area after selecting swg: 2.0765 mm²\n",
      "SWG: 16.0\n",
      "Primary wire Diameter with enamel: 1.737 mm\n"
     ]
    }
   ],
   "source": [
    "print('Input current ' + str(Input_current) + ' [amps]')\n",
    "print('Calculated Priamry Bare Area: ' + str(A_wp_in_sqmm)+ ' mm²')\n",
    "print('Final Priamry Bare Area after selecting swg: ' + str(A_wp*100)+ ' mm²')\n",
    "print('SWG: ' + str(required_swg_primary['SWG'].to_string(index=False)))\n",
    "print('Primary wire Diameter with enamel: ' + str(diameter_of_primary_wire_with_insulation.max()) + ' mm')"
   ]
  },
  {
   "cell_type": "markdown",
   "metadata": {},
   "source": [
    "## Algorithm"
   ]
  },
  {
   "cell_type": "markdown",
   "metadata": {},
   "source": [
    "Strip cost = function(stack, tongue, ww, wl)\n",
    "\n",
    "* Stack in mm\n",
    "* Tongue in mm\n",
    "* ww \\[Widning width\\] in mm\n",
    "* wl \\[Winding length\\] in mm"
   ]
  },
  {
   "cell_type": "code",
   "execution_count": null,
   "metadata": {},
   "outputs": [],
   "source": []
  }
 ],
 "metadata": {
  "interpreter": {
   "hash": "31f2aee4e71d21fbe5cf8b01ff0e069b9275f58929596ceb00d14d90e3e16cd6"
  },
  "kernelspec": {
   "display_name": "Python 3 (ipykernel)",
   "language": "python",
   "name": "python3"
  },
  "language_info": {
   "codemirror_mode": {
    "name": "ipython",
    "version": 3
   },
   "file_extension": ".py",
   "mimetype": "text/x-python",
   "name": "python",
   "nbconvert_exporter": "python",
   "pygments_lexer": "ipython3",
   "version": "3.8.10"
  }
 },
 "nbformat": 4,
 "nbformat_minor": 4
}
