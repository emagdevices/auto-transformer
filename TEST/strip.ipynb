{
 "cells": [
  {
   "cell_type": "markdown",
   "metadata": {},
   "source": [
    "## Strip Optimization"
   ]
  },
  {
   "cell_type": "markdown",
   "metadata": {},
   "source": [
    "Importing the libraries needed for running the programme"
   ]
  },
  {
   "cell_type": "code",
   "execution_count": 10,
   "metadata": {},
   "outputs": [],
   "source": [
    "# Loading libraries\n",
    "import pandas as pd\n",
    "import numpy as np\n",
    "import math \n",
    "from decimal import ROUND_DOWN, ROUND_UP"
   ]
  },
  {
   "cell_type": "code",
   "execution_count": 11,
   "metadata": {},
   "outputs": [],
   "source": [
    "# Initial variables for the calculation and validation\n",
    "Frequency = 47 # Hz\n",
    "Temperature_rise_goal = 30 # degree Celcius\n",
    "Output_power = 250 # watts\n",
    "Efficiency = 95 # %\n",
    "Input_voltage = 115 # volts\n",
    "Ouptut_voltage = 115 # volts\n",
    "Regulation = 5 # in a scale of 100\n",
    "Bobbin_thickness = 1.5 \n",
    "K_f = 4.44\n",
    "K_u = 0.4\n",
    "B_ac = 1.6\n",
    "J = 250\n",
    "insulation_thickness = 0.2 #mm"
   ]
  },
  {
   "cell_type": "markdown",
   "metadata": {},
   "source": [
    "Some constants for calculation"
   ]
  },
  {
   "cell_type": "code",
   "execution_count": 12,
   "metadata": {},
   "outputs": [],
   "source": [
    "pi = np.pi #pi\n",
    "a = 1.68 # coefficients for core loss\n",
    "b = 1.86 # coefficients for core loss \n",
    "Rate_of_Cu = 950 # Rs / Kg\n",
    "Rate_of_Fe = 250 # Rs / Kg\n",
    "Resistivity_Cu =  1.68 * 10**-6 # ohm cm"
   ]
  },
  {
   "cell_type": "code",
   "execution_count": 13,
   "metadata": {},
   "outputs": [
    {
     "name": "stdout",
     "output_type": "stream",
     "text": [
      "513.1578947368421\n"
     ]
    }
   ],
   "source": [
    "Apparent_power = Output_power * (1/(0.01*Efficiency) + 1)\n",
    "print(Apparent_power)"
   ]
  },
  {
   "cell_type": "code",
   "execution_count": 14,
   "metadata": {},
   "outputs": [
    {
     "name": "stdout",
     "output_type": "stream",
     "text": [
      "153.6916255561272\n"
     ]
    }
   ],
   "source": [
    "def area_product(K_f, K_u, B_ac, J, Frequency, apparent_power):\n",
    "    \"\"\"Input Arguments:\n",
    "        Output power watts\n",
    "        Efficiency in scale of 100%\n",
    "        K_f\n",
    "        K_u\n",
    "        B_ac -> Operational flux density\n",
    "        J\n",
    "        Frequency -> in Hz\n",
    "        Apparent power in watts\n",
    "    \"\"\"\n",
    "    Area_product = (apparent_power*(10**4))/(K_f * K_u * B_ac * J * Frequency)\n",
    "    return Area_product\n",
    "\n",
    "Area_product = area_product(K_f, K_u, B_ac, J, Frequency, Apparent_power)\n",
    "print(Area_product)"
   ]
  },
  {
   "cell_type": "markdown",
   "metadata": {},
   "source": [
    "## Data Collection\n",
    "\n",
    "* Lamination data\n",
    "* SWG data"
   ]
  },
  {
   "cell_type": "code",
   "execution_count": 15,
   "metadata": {},
   "outputs": [],
   "source": [
    "lamination_data = pd.read_csv('../DATA/EI-Laminations.csv')\n",
    "swg_data = pd.read_csv('../DATA/EMD - Sheet1.csv') # select the swg the data "
   ]
  },
  {
   "cell_type": "code",
   "execution_count": 17,
   "metadata": {},
   "outputs": [
    {
     "ename": "NameError",
     "evalue": "name 'required_swg_primary' is not defined",
     "output_type": "error",
     "traceback": [
      "\u001b[0;31m---------------------------------------------------------------------------\u001b[0m",
      "\u001b[0;31mNameError\u001b[0m                                 Traceback (most recent call last)",
      "\u001b[0;32m/tmp/ipykernel_28255/150442638.py\u001b[0m in \u001b[0;36m<module>\u001b[0;34m\u001b[0m\n\u001b[1;32m     26\u001b[0m \u001b[0mInput_current\u001b[0m \u001b[0;34m=\u001b[0m \u001b[0mApparent_power\u001b[0m \u001b[0;34m/\u001b[0m \u001b[0;34m(\u001b[0m\u001b[0mInput_voltage\u001b[0m \u001b[0;34m*\u001b[0m \u001b[0;36m0.01\u001b[0m\u001b[0;34m*\u001b[0m  \u001b[0mEfficiency\u001b[0m\u001b[0;34m)\u001b[0m\u001b[0;34m\u001b[0m\u001b[0;34m\u001b[0m\u001b[0m\n\u001b[1;32m     27\u001b[0m \u001b[0mA_wp_in_sqmm\u001b[0m \u001b[0;34m=\u001b[0m \u001b[0mbare_area\u001b[0m\u001b[0;34m(\u001b[0m\u001b[0mInput_current\u001b[0m\u001b[0;34m,\u001b[0m \u001b[0mJ\u001b[0m\u001b[0;34m)\u001b[0m\u001b[0;34m\u001b[0m\u001b[0;34m\u001b[0m\u001b[0m\n\u001b[0;32m---> 28\u001b[0;31m \u001b[0mrequired_swg_primary\u001b[0m\u001b[0;34m,\u001b[0m \u001b[0mdiameter_of_primary_wire_with_insulation\u001b[0m\u001b[0;34m,\u001b[0m \u001b[0mA_wp\u001b[0m \u001b[0;34m=\u001b[0m \u001b[0mfindSWG\u001b[0m\u001b[0;34m(\u001b[0m\u001b[0mA_wp_in_sqmm\u001b[0m\u001b[0;34m)\u001b[0m\u001b[0;34m\u001b[0m\u001b[0;34m\u001b[0m\u001b[0m\n\u001b[0m\u001b[1;32m     29\u001b[0m \u001b[0;31m# results\u001b[0m\u001b[0;34m\u001b[0m\u001b[0;34m\u001b[0m\u001b[0;34m\u001b[0m\u001b[0m\n",
      "\u001b[0;32m/tmp/ipykernel_28255/150442638.py\u001b[0m in \u001b[0;36mfindSWG\u001b[0;34m(Bare_area)\u001b[0m\n\u001b[1;32m     11\u001b[0m     \u001b[0mrequired_swg_result\u001b[0m \u001b[0;34m=\u001b[0m \u001b[0mhiger_data\u001b[0m\u001b[0;34m.\u001b[0m\u001b[0miloc\u001b[0m\u001b[0;34m[\u001b[0m\u001b[0;34m(\u001b[0m\u001b[0mhiger_data\u001b[0m\u001b[0;34m[\u001b[0m\u001b[0;34m'Normal Conductor Area mm²'\u001b[0m\u001b[0;34m]\u001b[0m \u001b[0;34m-\u001b[0m \u001b[0mBare_area\u001b[0m\u001b[0;34m)\u001b[0m\u001b[0;34m.\u001b[0m\u001b[0mabs\u001b[0m\u001b[0;34m(\u001b[0m\u001b[0;34m)\u001b[0m\u001b[0;34m.\u001b[0m\u001b[0margsort\u001b[0m\u001b[0;34m(\u001b[0m\u001b[0;34m)\u001b[0m\u001b[0;34m[\u001b[0m\u001b[0;34m:\u001b[0m\u001b[0;36m1\u001b[0m\u001b[0;34m]\u001b[0m\u001b[0;34m]\u001b[0m\u001b[0;34m\u001b[0m\u001b[0;34m\u001b[0m\u001b[0m\n\u001b[1;32m     12\u001b[0m     \u001b[0mdiameter_of_insulated_wire\u001b[0m \u001b[0;34m=\u001b[0m \u001b[0mrequired_swg_result\u001b[0m\u001b[0;34m[\u001b[0m\u001b[0;34m'Medium Covering Max'\u001b[0m\u001b[0;34m]\u001b[0m\u001b[0;34m\u001b[0m\u001b[0;34m\u001b[0m\u001b[0m\n\u001b[0;32m---> 13\u001b[0;31m     \u001b[0mA_wp\u001b[0m \u001b[0;34m=\u001b[0m \u001b[0mrequired_swg_primary\u001b[0m\u001b[0;34m[\u001b[0m\u001b[0;34m'Normal Conductor Area mm²'\u001b[0m\u001b[0;34m]\u001b[0m\u001b[0;34m.\u001b[0m\u001b[0mmax\u001b[0m\u001b[0;34m(\u001b[0m\u001b[0;34m)\u001b[0m \u001b[0;34m/\u001b[0m \u001b[0;36m100\u001b[0m \u001b[0;31m# cm^2\u001b[0m\u001b[0;34m\u001b[0m\u001b[0;34m\u001b[0m\u001b[0m\n\u001b[0m\u001b[1;32m     14\u001b[0m     \u001b[0;32mreturn\u001b[0m \u001b[0mrequired_swg_result\u001b[0m\u001b[0;34m,\u001b[0m \u001b[0mdiameter_of_insulated_wire\u001b[0m\u001b[0;34m,\u001b[0m \u001b[0mA_wp\u001b[0m\u001b[0;34m\u001b[0m\u001b[0;34m\u001b[0m\u001b[0m\n\u001b[1;32m     15\u001b[0m \u001b[0;34m\u001b[0m\u001b[0m\n",
      "\u001b[0;31mNameError\u001b[0m: name 'required_swg_primary' is not defined"
     ]
    }
   ],
   "source": [
    "def findSWG(Bare_area):\n",
    "    '''\n",
    "        Bare area in sqmm\n",
    "        return variables: \n",
    "            required swg dataframe, \n",
    "            diameter of insulated wire, \n",
    "            bare area of selected swg\n",
    "    '''\n",
    "    swg_data = pd.read_csv('../DATA/EMD - Sheet1.csv') # select the swg the data \n",
    "    higer_data = swg_data[Bare_area < swg_data['Normal Conductor Area mm²']]\n",
    "    required_swg_result = higer_data.iloc[(higer_data['Normal Conductor Area mm²'] - Bare_area).abs().argsort()[:1]]\n",
    "    diameter_of_insulated_wire = required_swg_result['Medium Covering Max']\n",
    "    A_wp = required_swg_primary['Normal Conductor Area mm²'].max() / 100 # cm^2\n",
    "    return required_swg_result, diameter_of_insulated_wire, A_wp \n",
    "\n",
    "def bare_area(input_current, current_density):\n",
    "    '''\n",
    "        arguments: \n",
    "            input current [amps], \n",
    "            current density [amp/]\n",
    "        return variables: Bare area in sqmm\n",
    "    '''\n",
    "    a_wp = input_current / current_density\n",
    "    return a_wp* 100 \n",
    "\n",
    "Input_current = Apparent_power / (Input_voltage * 0.01*  Efficiency)\n",
    "A_wp_in_sqmm = bare_area(Input_current, J)\n",
    "required_swg_primary, diameter_of_primary_wire_with_insulation, A_wp = findSWG(A_wp_in_sqmm)\n",
    "# results\n"
   ]
  },
  {
   "cell_type": "code",
   "execution_count": 18,
   "metadata": {},
   "outputs": [
    {
     "name": "stdout",
     "output_type": "stream",
     "text": [
      "Input current 4.69709743466217 [amps]\n",
      "Calculated Priamry Bare Area: 1.8788389738648679 mm²\n"
     ]
    },
    {
     "ename": "NameError",
     "evalue": "name 'A_wp' is not defined",
     "output_type": "error",
     "traceback": [
      "\u001b[0;31m---------------------------------------------------------------------------\u001b[0m",
      "\u001b[0;31mNameError\u001b[0m                                 Traceback (most recent call last)",
      "\u001b[0;32m/tmp/ipykernel_28255/2526933984.py\u001b[0m in \u001b[0;36m<module>\u001b[0;34m\u001b[0m\n\u001b[1;32m      1\u001b[0m \u001b[0mprint\u001b[0m\u001b[0;34m(\u001b[0m\u001b[0;34m'Input current '\u001b[0m \u001b[0;34m+\u001b[0m \u001b[0mstr\u001b[0m\u001b[0;34m(\u001b[0m\u001b[0mInput_current\u001b[0m\u001b[0;34m)\u001b[0m \u001b[0;34m+\u001b[0m \u001b[0;34m' [amps]'\u001b[0m\u001b[0;34m)\u001b[0m\u001b[0;34m\u001b[0m\u001b[0;34m\u001b[0m\u001b[0m\n\u001b[1;32m      2\u001b[0m \u001b[0mprint\u001b[0m\u001b[0;34m(\u001b[0m\u001b[0;34m'Calculated Priamry Bare Area: '\u001b[0m \u001b[0;34m+\u001b[0m \u001b[0mstr\u001b[0m\u001b[0;34m(\u001b[0m\u001b[0mA_wp_in_sqmm\u001b[0m\u001b[0;34m)\u001b[0m\u001b[0;34m+\u001b[0m \u001b[0;34m' mm²'\u001b[0m\u001b[0;34m)\u001b[0m\u001b[0;34m\u001b[0m\u001b[0;34m\u001b[0m\u001b[0m\n\u001b[0;32m----> 3\u001b[0;31m \u001b[0mprint\u001b[0m\u001b[0;34m(\u001b[0m\u001b[0;34m'Final Priamry Bare Area after selecting swg: '\u001b[0m \u001b[0;34m+\u001b[0m \u001b[0mstr\u001b[0m\u001b[0;34m(\u001b[0m\u001b[0mA_wp\u001b[0m\u001b[0;34m*\u001b[0m\u001b[0;36m100\u001b[0m\u001b[0;34m)\u001b[0m\u001b[0;34m+\u001b[0m \u001b[0;34m' mm²'\u001b[0m\u001b[0;34m)\u001b[0m\u001b[0;34m\u001b[0m\u001b[0;34m\u001b[0m\u001b[0m\n\u001b[0m\u001b[1;32m      4\u001b[0m \u001b[0mprint\u001b[0m\u001b[0;34m(\u001b[0m\u001b[0;34m'SWG: '\u001b[0m \u001b[0;34m+\u001b[0m \u001b[0mstr\u001b[0m\u001b[0;34m(\u001b[0m\u001b[0mrequired_swg_primary\u001b[0m\u001b[0;34m[\u001b[0m\u001b[0;34m'SWG'\u001b[0m\u001b[0;34m]\u001b[0m\u001b[0;34m.\u001b[0m\u001b[0mto_string\u001b[0m\u001b[0;34m(\u001b[0m\u001b[0mindex\u001b[0m\u001b[0;34m=\u001b[0m\u001b[0;32mFalse\u001b[0m\u001b[0;34m)\u001b[0m\u001b[0;34m)\u001b[0m\u001b[0;34m)\u001b[0m\u001b[0;34m\u001b[0m\u001b[0;34m\u001b[0m\u001b[0m\n\u001b[1;32m      5\u001b[0m \u001b[0mprint\u001b[0m\u001b[0;34m(\u001b[0m\u001b[0;34m'Primary wire Diameter with enamel: '\u001b[0m \u001b[0;34m+\u001b[0m \u001b[0mstr\u001b[0m\u001b[0;34m(\u001b[0m\u001b[0mdiameter_of_primary_wire_with_insulation\u001b[0m\u001b[0;34m.\u001b[0m\u001b[0mmax\u001b[0m\u001b[0;34m(\u001b[0m\u001b[0;34m)\u001b[0m\u001b[0;34m)\u001b[0m \u001b[0;34m+\u001b[0m \u001b[0;34m' mm'\u001b[0m\u001b[0;34m)\u001b[0m\u001b[0;34m\u001b[0m\u001b[0;34m\u001b[0m\u001b[0m\n",
      "\u001b[0;31mNameError\u001b[0m: name 'A_wp' is not defined"
     ]
    }
   ],
   "source": [
    "print('Input current ' + str(Input_current) + ' [amps]')\n",
    "print('Calculated Priamry Bare Area: ' + str(A_wp_in_sqmm)+ ' mm²')\n",
    "print('Final Priamry Bare Area after selecting swg: ' + str(A_wp*100)+ ' mm²')\n",
    "print('SWG: ' + str(required_swg_primary['SWG'].to_string(index=False)))\n",
    "print('Primary wire Diameter with enamel: ' + str(diameter_of_primary_wire_with_insulation.max()) + ' mm')"
   ]
  },
  {
   "cell_type": "code",
   "execution_count": null,
   "metadata": {},
   "outputs": [],
   "source": []
  }
 ],
 "metadata": {
  "interpreter": {
   "hash": "31f2aee4e71d21fbe5cf8b01ff0e069b9275f58929596ceb00d14d90e3e16cd6"
  },
  "kernelspec": {
   "display_name": "Python 3.8.10 64-bit",
   "language": "python",
   "name": "python3"
  },
  "language_info": {
   "codemirror_mode": {
    "name": "ipython",
    "version": 3
   },
   "file_extension": ".py",
   "mimetype": "text/x-python",
   "name": "python",
   "nbconvert_exporter": "python",
   "pygments_lexer": "ipython3",
   "version": "3.8.10"
  },
  "orig_nbformat": 4
 },
 "nbformat": 4,
 "nbformat_minor": 2
}
