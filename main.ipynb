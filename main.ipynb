{
 "cells": [
  {
   "cell_type": "markdown",
   "metadata": {},
   "source": [
    "# Auto-Transformer"
   ]
  },
  {
   "cell_type": "markdown",
   "metadata": {},
   "source": [
    "## Input\n",
    "\n",
    "### User Input\n",
    "\n",
    "- Input Voltage $V_{in}$\n",
    "- Output Power $P_o=250$\n",
    "- Frequency $f=47$\n",
    "- Efficiency $\\eta=95\\%$\n",
    "- Operating flux density $B_{ac}$\n",
    "- Temperature rise goal, $T_r=30^oC$\n",
    "- Window utilization, $K_u=0.4$\n",
    "- Core Material = $Silicon M6X$\n",
    "- Lamination Number = $EI-150$\n",
    "- Current Density $J=250 [amps/cm^2]$\n",
    "\n",
    "### Constants \n",
    "\n",
    "- Window utilization $K_u$"
   ]
  },
  {
   "cell_type": "code",
   "execution_count": 1,
   "metadata": {},
   "outputs": [],
   "source": [
    "Frequency = 47 # Hz\n",
    "Temperature_rise_goal = 30 # degree Celcius\n",
    "Output_power = 250 # watts\n",
    "Efficiency = 95 # %\n",
    "Input_voltage = 115\n",
    "Bobbin_thickness = 1.5 "
   ]
  },
  {
   "cell_type": "markdown",
   "metadata": {},
   "source": [
    "\n",
    "## Apparent Power $P_t$\n",
    "\n",
    "Calculating the transformer apparent power, $P_t$\n",
    "\n",
    "$$ P_t=P_o(\\dfrac{1}{\\eta} + 1), [watts]$$\n",
    "\n",
    "$$P_t=250[(1/0.95)+1]$$\n",
    "\n",
    "$$P_t=513, [watts]$$"
   ]
  },
  {
   "cell_type": "code",
   "execution_count": 2,
   "metadata": {},
   "outputs": [
    {
     "name": "stdout",
     "output_type": "stream",
     "text": [
      "513.1578947368421\n"
     ]
    }
   ],
   "source": [
    "Apparent_power = Output_power * (1/(0.01*Efficiency) + 1)\n",
    "print(Apparent_power)"
   ]
  },
  {
   "cell_type": "markdown",
   "metadata": {},
   "source": [
    "## Calculation of Area Product\n",
    "\n",
    "$$J=\\dfrac{P_t (10^4)}{K_f K_u B_{ac} f A_p} $$\n",
    "\n",
    "$$A_p=\\dfrac{P_t (10^4)}{K_f K_u B_{ac} f J} $$\n",
    "\n",
    "For initial case :\n",
    "\n",
    "$$K_f = 4.44$$\n",
    "$$K_u = 0.4 $$\n",
    "$$B_{ac} = 1.6$$\n",
    "$$f= 47$$\n",
    "$$J=250$$"
   ]
  },
  {
   "cell_type": "code",
   "execution_count": 3,
   "metadata": {},
   "outputs": [
    {
     "name": "stdout",
     "output_type": "stream",
     "text": [
      "153.6916255561272\n"
     ]
    }
   ],
   "source": [
    "K_f = 4.44\n",
    "K_u = 0.4\n",
    "B_ac = 1.6\n",
    "J = 250\n",
    "Area_product = (Apparent_power*(10**4))/(K_f * K_u * B_ac * J * Frequency)\n",
    "print(Area_product)"
   ]
  },
  {
   "cell_type": "markdown",
   "metadata": {},
   "source": [
    "## Select lamination and vary the area product"
   ]
  },
  {
   "cell_type": "code",
   "execution_count": 4,
   "metadata": {},
   "outputs": [],
   "source": [
    "import pandas as pd\n",
    "import numpy as np"
   ]
  },
  {
   "cell_type": "code",
   "execution_count": 5,
   "metadata": {},
   "outputs": [
    {
     "data": {
      "text/html": [
       "<div>\n",
       "<style scoped>\n",
       "    .dataframe tbody tr th:only-of-type {\n",
       "        vertical-align: middle;\n",
       "    }\n",
       "\n",
       "    .dataframe tbody tr th {\n",
       "        vertical-align: top;\n",
       "    }\n",
       "\n",
       "    .dataframe thead th {\n",
       "        text-align: right;\n",
       "    }\n",
       "</style>\n",
       "<table border=\"1\" class=\"dataframe\">\n",
       "  <thead>\n",
       "    <tr style=\"text-align: right;\">\n",
       "      <th></th>\n",
       "      <th>Type</th>\n",
       "      <th>A</th>\n",
       "      <th>B</th>\n",
       "      <th>C</th>\n",
       "      <th>D</th>\n",
       "      <th>E</th>\n",
       "      <th>Tongue</th>\n",
       "      <th>Winding-width</th>\n",
       "      <th>Winding-length</th>\n",
       "      <th>K-ratio</th>\n",
       "      <th>Remarks</th>\n",
       "      <th>Fig-No</th>\n",
       "    </tr>\n",
       "  </thead>\n",
       "  <tbody>\n",
       "    <tr>\n",
       "      <th>0</th>\n",
       "      <td>SB1R</td>\n",
       "      <td>8.00</td>\n",
       "      <td>28.00</td>\n",
       "      <td>25.00</td>\n",
       "      <td>4.00</td>\n",
       "      <td>4.00</td>\n",
       "      <td>8.00</td>\n",
       "      <td>6.000</td>\n",
       "      <td>17.00</td>\n",
       "      <td>816.000000</td>\n",
       "      <td>-</td>\n",
       "      <td>1</td>\n",
       "    </tr>\n",
       "    <tr>\n",
       "      <th>1</th>\n",
       "      <td>SB3R</td>\n",
       "      <td>9.50</td>\n",
       "      <td>35.00</td>\n",
       "      <td>29.50</td>\n",
       "      <td>5.00</td>\n",
       "      <td>5.00</td>\n",
       "      <td>9.50</td>\n",
       "      <td>7.750</td>\n",
       "      <td>19.50</td>\n",
       "      <td>1435.687500</td>\n",
       "      <td>-</td>\n",
       "      <td>1</td>\n",
       "    </tr>\n",
       "    <tr>\n",
       "      <th>2</th>\n",
       "      <td>17</td>\n",
       "      <td>12.70</td>\n",
       "      <td>38.10</td>\n",
       "      <td>31.75</td>\n",
       "      <td>6.35</td>\n",
       "      <td>6.35</td>\n",
       "      <td>12.70</td>\n",
       "      <td>6.350</td>\n",
       "      <td>19.05</td>\n",
       "      <td>1536.287250</td>\n",
       "      <td>-</td>\n",
       "      <td>1</td>\n",
       "    </tr>\n",
       "    <tr>\n",
       "      <th>3</th>\n",
       "      <td>74</td>\n",
       "      <td>18.07</td>\n",
       "      <td>53.93</td>\n",
       "      <td>45.11</td>\n",
       "      <td>8.94</td>\n",
       "      <td>8.94</td>\n",
       "      <td>18.07</td>\n",
       "      <td>8.990</td>\n",
       "      <td>27.23</td>\n",
       "      <td>4423.494439</td>\n",
       "      <td>WW 8.9</td>\n",
       "      <td>2</td>\n",
       "    </tr>\n",
       "    <tr>\n",
       "      <th>4</th>\n",
       "      <td>12A</td>\n",
       "      <td>15.87</td>\n",
       "      <td>47.62</td>\n",
       "      <td>38.68</td>\n",
       "      <td>7.93</td>\n",
       "      <td>7.93</td>\n",
       "      <td>15.87</td>\n",
       "      <td>7.945</td>\n",
       "      <td>22.82</td>\n",
       "      <td>2877.308763</td>\n",
       "      <td>-</td>\n",
       "      <td>1</td>\n",
       "    </tr>\n",
       "  </tbody>\n",
       "</table>\n",
       "</div>"
      ],
      "text/plain": [
       "   Type      A      B      C     D     E  Tongue  Winding-width  \\\n",
       "0  SB1R   8.00  28.00  25.00  4.00  4.00    8.00          6.000   \n",
       "1  SB3R   9.50  35.00  29.50  5.00  5.00    9.50          7.750   \n",
       "2    17  12.70  38.10  31.75  6.35  6.35   12.70          6.350   \n",
       "3    74  18.07  53.93  45.11  8.94  8.94   18.07          8.990   \n",
       "4   12A  15.87  47.62  38.68  7.93  7.93   15.87          7.945   \n",
       "\n",
       "   Winding-length      K-ratio Remarks  Fig-No  \n",
       "0           17.00   816.000000       -       1  \n",
       "1           19.50  1435.687500       -       1  \n",
       "2           19.05  1536.287250       -       1  \n",
       "3           27.23  4423.494439  WW 8.9       2  \n",
       "4           22.82  2877.308763       -       1  "
      ]
     },
     "execution_count": 5,
     "metadata": {},
     "output_type": "execute_result"
    }
   ],
   "source": [
    "lamination_data = pd.read_csv('./EI-Laminations - Sheet1.csv')\n",
    "lamination_data.head()"
   ]
  },
  {
   "cell_type": "markdown",
   "metadata": {},
   "source": [
    "**For looping into each lamination**\n",
    "\n",
    "    for lamination in lamination_data['Type']:\n",
    "        selected_lamination = lamination_data[lamination_data['Type'] == lamination]\n",
    "        print(selected_lamination['K-ratio'].max())\n",
    "\n",
    "**For looping the Area product varying form 60% to 140% of Area Product**\n",
    "\n",
    "    for x in range(60, 140, 5):\n",
    "        present_Area_product = x*Area_product*0.01\n",
    "        print(str(present_Area_product) + ', original AP: ' + str(Area_product))"
   ]
  },
  {
   "cell_type": "code",
   "execution_count": 10,
   "metadata": {},
   "outputs": [],
   "source": [
    "stack_data = []\n",
    "Awg = []\n",
    "\n",
    "for lamination in lamination_data['Type']:\n",
    "    selected_lamination = lamination_data[lamination_data['Type'] == lamination]\n",
    "    # print(selected_lamination)\n",
    "    for x in range(60, 141, 5):\n",
    "        present_Area_product = x*Area_product*0.01 * 10**4\n",
    "        # Calculate stack for the present area product\n",
    "        stack = present_Area_product / selected_lamination['K-ratio'].max()\n",
    "        # print('stack : ' + str(stack))\n",
    "        # print('lamination :' + str(selected_lamination['Type'].max()) + '\\nArea product: ' + str(present_Area_product) )\n",
    "        # print(5* selected_lamination['Tongue'].max())\n",
    "        if stack < 5 * selected_lamination['Tongue'].max():\n",
    "            # print('stack : ' + str(stack) + ' tongue: ' + str(selected_lamination['Tongue'].max()))\n",
    "            # print(stack)\n",
    "            if stack < 5:\n",
    "                stack = 5.0\n",
    "            elif stack%5 == 0:\n",
    "                stack = stack\n",
    "            elif stack%5 <= 2.5:\n",
    "                stack = stack - stack % 5\n",
    "            elif stack%5 > 2.5:\n",
    "                stack = stack - stack % 5 + 5\n",
    "            table_data_stack_and_tongue = {\n",
    "                'Stack': stack,\n",
    "                'Tongue': selected_lamination['Tongue'].max()\n",
    "            }\n",
    "            stack_data.append(table_data_stack_and_tongue)\n",
    "\n",
    "            # Primary turns\n",
    "            # we need core area A_c \n",
    "            # A_c = tongue * stack\n",
    "            A_c = stack * selected_lamination['Tongue'].max()\n",
    "            # print('A_c = ' + str(A_c))\n",
    "\n",
    "            # Now primary_turns = (Input_voltage) / (K_f* B_ac* Frequency * A_c)\n",
    "            primary_turns = (Input_voltage) / (K_f* B_ac* Frequency * A_c)\n",
    "            # print(primary_turns)\n",
    "\n",
    "            # Input current I_input\n",
    "            # Input_current = Apparent_power / (Input_voltage*Efficiency)\n",
    "            Input_current = Apparent_power / (Input_voltage*Efficiency)\n",
    "            # print(str(Input_current) + ' [amps]')\n",
    "\n",
    "            # Primary bare wire area A_wp\n",
    "            # A_wp = Input_current / Current_density (J)\n",
    "            A_wp = Input_current / J\n",
    "            # print(A_wp) # bare area in sqcm so convert it into sqmm\n",
    "\n",
    "\n",
    "            # Select wire from Wire Table \n",
    "            # Table is data provide in (EMD-wire-table.csv)\n",
    "            Awg_data = pd.read_csv('EMD-wire-table.csv')\n",
    "            Area_required = A_wp\n",
    "            required_awg = Awg_data.iloc[(Awg_data['BA-sqcm'] - Area_required).abs().argsort()[:1]]\n",
    "            # Awg.append({'SWG': required_awg['SWG'], \n",
    "            # 'Normal Area': required_awg['Normal Conductor Area mm²'],\n",
    "            # 'CR Normal': required_awg['CR Normal']\n",
    "            # })\n",
    "            selected_awg = required_awg['AWG'].to_string(index=False)\n",
    "            \n",
    "\n",
    "\n",
    "            # print(Area_of_selected_awg)\n",
    "\n",
    "            ## TPL (turns per layer TLP_primary)\n",
    "            # TPL_primary = wl / diameter_of_wire_with_insulation\n",
    "\n",
    "\n",
    "\n",
    "\n",
    "\n",
    "\n",
    "\n",
    "\n",
    "# stack_data\n",
    "# df = pd.DataFrame(stack_data)\n",
    "# df"
   ]
  },
  {
   "cell_type": "code",
   "execution_count": null,
   "metadata": {},
   "outputs": [],
   "source": []
  },
  {
   "cell_type": "code",
   "execution_count": null,
   "metadata": {},
   "outputs": [],
   "source": []
  }
 ],
 "metadata": {
  "interpreter": {
   "hash": "31f2aee4e71d21fbe5cf8b01ff0e069b9275f58929596ceb00d14d90e3e16cd6"
  },
  "kernelspec": {
   "display_name": "Python 3.8.10 64-bit",
   "language": "python",
   "name": "python3810jvsc74a57bd031f2aee4e71d21fbe5cf8b01ff0e069b9275f58929596ceb00d14d90e3e16cd6"
  },
  "language_info": {
   "codemirror_mode": {
    "name": "ipython",
    "version": 3
   },
   "file_extension": ".py",
   "mimetype": "text/x-python",
   "name": "python",
   "nbconvert_exporter": "python",
   "pygments_lexer": "ipython3",
   "version": "3.8.10"
  },
  "orig_nbformat": 4
 },
 "nbformat": 4,
 "nbformat_minor": 2
}
