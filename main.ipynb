{
 "cells": [
  {
   "cell_type": "markdown",
   "metadata": {},
   "source": [
    "# Auto-Transformer"
   ]
  },
  {
   "cell_type": "markdown",
   "metadata": {},
   "source": [
    "## Input\n",
    "\n",
    "### User Input\n",
    "\n",
    "- Input Voltage $V_{in}$\n",
    "- Output Power $P_o=250$\n",
    "- Frequency $f=47$\n",
    "- Efficiency $\\eta=95\\%$\n",
    "- Operating flux density $B_{ac}$\n",
    "- Temperature rise goal, $T_r=30^oC$\n",
    "- Window utilization, $K_u=0.4$\n",
    "- Core Material = $Silicon M6X$\n",
    "- Lamination Number = $EI-150$\n",
    "- Current Density $J=250 [amps/cm^2]$\n",
    "\n",
    "### Constants \n",
    "\n",
    "- Window utilization $K_u$"
   ]
  },
  {
   "cell_type": "code",
   "execution_count": 18,
   "metadata": {},
   "outputs": [],
   "source": [
    "Frequency = 47 # Hz\n",
    "Temperature_rise_goal = 30 # degree Celcius\n",
    "Output_power = 250 # watts\n",
    "Efficiency = 95 # %"
   ]
  },
  {
   "cell_type": "markdown",
   "metadata": {},
   "source": [
    "\n",
    "## Apparent Power $P_t$\n",
    "\n",
    "Calculating the transformer apparent power, $P_t$\n",
    "\n",
    "$$ P_t=P_o(\\dfrac{1}{\\eta} + 1), [watts]$$\n",
    "\n",
    "$$P_t=250[(1/0.95)+1]$$\n",
    "\n",
    "$$P_t=513, [watts]$$"
   ]
  },
  {
   "cell_type": "code",
   "execution_count": 19,
   "metadata": {},
   "outputs": [
    {
     "name": "stdout",
     "output_type": "stream",
     "text": [
      "513.1578947368421\n"
     ]
    }
   ],
   "source": [
    "Apparent_power = Output_power * (1/(0.01*Efficiency) + 1)\n",
    "print(Apparent_power)"
   ]
  },
  {
   "cell_type": "markdown",
   "metadata": {},
   "source": [
    "## Calculation of Area Product\n",
    "\n",
    "$$J=\\dfrac{P_t (10^4)}{K_f K_u B_{ac} f A_p} $$\n",
    "\n",
    "$$A_p=\\dfrac{P_t (10^4)}{K_f K_u B_{ac} f J} $$\n",
    "\n",
    "For initial case :\n",
    "\n",
    "$$K_f = 4.44$$\n",
    "$$K_u = 0.4 $$\n",
    "$$B_{ac} = 1.6$$\n",
    "$$f= 47$$\n",
    "$$J=250$$"
   ]
  },
  {
   "cell_type": "code",
   "execution_count": 20,
   "metadata": {},
   "outputs": [
    {
     "name": "stdout",
     "output_type": "stream",
     "text": [
      "153.6916255561272\n"
     ]
    }
   ],
   "source": [
    "K_f = 4.44\n",
    "K_u = 0.4\n",
    "B_ac = 1.6\n",
    "J = 250\n",
    "Area_product = (Apparent_power*(10**4))/(K_f * K_u * B_ac * J * Frequency)\n",
    "print(Area_product)"
   ]
  },
  {
   "cell_type": "markdown",
   "metadata": {},
   "source": [
    "## Select lamination and vary the area product"
   ]
  },
  {
   "cell_type": "code",
   "execution_count": 21,
   "metadata": {},
   "outputs": [],
   "source": [
    "import pandas as pd\n",
    "import numpy as np"
   ]
  },
  {
   "cell_type": "code",
   "execution_count": 22,
   "metadata": {},
   "outputs": [
    {
     "data": {
      "text/html": [
       "<div>\n",
       "<style scoped>\n",
       "    .dataframe tbody tr th:only-of-type {\n",
       "        vertical-align: middle;\n",
       "    }\n",
       "\n",
       "    .dataframe tbody tr th {\n",
       "        vertical-align: top;\n",
       "    }\n",
       "\n",
       "    .dataframe thead th {\n",
       "        text-align: right;\n",
       "    }\n",
       "</style>\n",
       "<table border=\"1\" class=\"dataframe\">\n",
       "  <thead>\n",
       "    <tr style=\"text-align: right;\">\n",
       "      <th></th>\n",
       "      <th>Type</th>\n",
       "      <th>A</th>\n",
       "      <th>B</th>\n",
       "      <th>C</th>\n",
       "      <th>D</th>\n",
       "      <th>E</th>\n",
       "      <th>Tongue</th>\n",
       "      <th>Winding-width</th>\n",
       "      <th>Winding-length</th>\n",
       "      <th>K-ratio</th>\n",
       "      <th>Remarks</th>\n",
       "      <th>Fig-No</th>\n",
       "    </tr>\n",
       "  </thead>\n",
       "  <tbody>\n",
       "    <tr>\n",
       "      <th>0</th>\n",
       "      <td>SB1R</td>\n",
       "      <td>8.00</td>\n",
       "      <td>28.00</td>\n",
       "      <td>25.00</td>\n",
       "      <td>4.00</td>\n",
       "      <td>4.00</td>\n",
       "      <td>8.00</td>\n",
       "      <td>6.000</td>\n",
       "      <td>17.00</td>\n",
       "      <td>816.000000</td>\n",
       "      <td>-</td>\n",
       "      <td>1</td>\n",
       "    </tr>\n",
       "    <tr>\n",
       "      <th>1</th>\n",
       "      <td>SB3R</td>\n",
       "      <td>9.50</td>\n",
       "      <td>35.00</td>\n",
       "      <td>29.50</td>\n",
       "      <td>5.00</td>\n",
       "      <td>5.00</td>\n",
       "      <td>9.50</td>\n",
       "      <td>7.750</td>\n",
       "      <td>19.50</td>\n",
       "      <td>1435.687500</td>\n",
       "      <td>-</td>\n",
       "      <td>1</td>\n",
       "    </tr>\n",
       "    <tr>\n",
       "      <th>2</th>\n",
       "      <td>17</td>\n",
       "      <td>12.70</td>\n",
       "      <td>38.10</td>\n",
       "      <td>31.75</td>\n",
       "      <td>6.35</td>\n",
       "      <td>6.35</td>\n",
       "      <td>12.70</td>\n",
       "      <td>6.350</td>\n",
       "      <td>19.05</td>\n",
       "      <td>1536.287250</td>\n",
       "      <td>-</td>\n",
       "      <td>1</td>\n",
       "    </tr>\n",
       "    <tr>\n",
       "      <th>3</th>\n",
       "      <td>74</td>\n",
       "      <td>18.07</td>\n",
       "      <td>53.93</td>\n",
       "      <td>45.11</td>\n",
       "      <td>8.94</td>\n",
       "      <td>8.94</td>\n",
       "      <td>18.07</td>\n",
       "      <td>8.990</td>\n",
       "      <td>27.23</td>\n",
       "      <td>4423.494439</td>\n",
       "      <td>WW 8.9</td>\n",
       "      <td>2</td>\n",
       "    </tr>\n",
       "    <tr>\n",
       "      <th>4</th>\n",
       "      <td>12A</td>\n",
       "      <td>15.87</td>\n",
       "      <td>47.62</td>\n",
       "      <td>38.68</td>\n",
       "      <td>7.93</td>\n",
       "      <td>7.93</td>\n",
       "      <td>15.87</td>\n",
       "      <td>7.945</td>\n",
       "      <td>22.82</td>\n",
       "      <td>2877.308763</td>\n",
       "      <td>-</td>\n",
       "      <td>1</td>\n",
       "    </tr>\n",
       "  </tbody>\n",
       "</table>\n",
       "</div>"
      ],
      "text/plain": [
       "   Type      A      B      C     D     E  Tongue  Winding-width  \\\n",
       "0  SB1R   8.00  28.00  25.00  4.00  4.00    8.00          6.000   \n",
       "1  SB3R   9.50  35.00  29.50  5.00  5.00    9.50          7.750   \n",
       "2    17  12.70  38.10  31.75  6.35  6.35   12.70          6.350   \n",
       "3    74  18.07  53.93  45.11  8.94  8.94   18.07          8.990   \n",
       "4   12A  15.87  47.62  38.68  7.93  7.93   15.87          7.945   \n",
       "\n",
       "   Winding-length      K-ratio Remarks  Fig-No  \n",
       "0           17.00   816.000000       -       1  \n",
       "1           19.50  1435.687500       -       1  \n",
       "2           19.05  1536.287250       -       1  \n",
       "3           27.23  4423.494439  WW 8.9       2  \n",
       "4           22.82  2877.308763       -       1  "
      ]
     },
     "execution_count": 22,
     "metadata": {},
     "output_type": "execute_result"
    }
   ],
   "source": [
    "lamination_data = pd.read_csv('./EI-Laminations - Sheet1.csv')\n",
    "lamination_data.head()"
   ]
  },
  {
   "cell_type": "code",
   "execution_count": 36,
   "metadata": {},
   "outputs": [
    {
     "name": "stdout",
     "output_type": "stream",
     "text": [
      "   Type    A     B     C    D    E  Tongue  Winding-width  Winding-length  \\\n",
      "0  SB1R  8.0  28.0  25.0  4.0  4.0     8.0            6.0            17.0   \n",
      "\n",
      "   K-ratio Remarks  Fig-No  \n",
      "0    816.0       -       1  \n",
      "   Type    A     B     C    D    E  Tongue  Winding-width  Winding-length  \\\n",
      "1  SB3R  9.5  35.0  29.5  5.0  5.0     9.5           7.75            19.5   \n",
      "\n",
      "     K-ratio Remarks  Fig-No  \n",
      "1  1435.6875       -       1  \n",
      "  Type     A     B      C     D     E  Tongue  Winding-width  Winding-length  \\\n",
      "2   17  12.7  38.1  31.75  6.35  6.35    12.7           6.35           19.05   \n",
      "\n",
      "      K-ratio Remarks  Fig-No  \n",
      "2  1536.28725       -       1  \n",
      "  Type      A      B      C     D     E  Tongue  Winding-width  \\\n",
      "3   74  18.07  53.93  45.11  8.94  8.94   18.07           8.99   \n",
      "5   74  18.00  54.00  45.00  9.00  9.00   18.00           9.00   \n",
      "\n",
      "   Winding-length      K-ratio Remarks  Fig-No  \n",
      "3           27.23  4423.494439  WW 8.9       2  \n",
      "5           27.00  4374.000000       -       1  \n",
      "  Type      A      B      C     D     E  Tongue  Winding-width  \\\n",
      "4  12A  15.87  47.62  38.68  7.93  7.93   15.87          7.945   \n",
      "\n",
      "   Winding-length      K-ratio Remarks  Fig-No  \n",
      "4           22.82  2877.308763       -       1  \n",
      "  Type      A      B      C     D     E  Tongue  Winding-width  \\\n",
      "3   74  18.07  53.93  45.11  8.94  8.94   18.07           8.99   \n",
      "5   74  18.00  54.00  45.00  9.00  9.00   18.00           9.00   \n",
      "\n",
      "   Winding-length      K-ratio Remarks  Fig-No  \n",
      "3           27.23  4423.494439  WW 8.9       2  \n",
      "5           27.00  4374.000000       -       1  \n",
      "  Type      A      B      C     D     E  Tongue  Winding-width  \\\n",
      "6   23  19.05  57.15  47.62  9.52  9.52   19.05           9.53   \n",
      "\n",
      "   Winding-length     K-ratio Remarks  Fig-No  \n",
      "6           28.58  5188.59897       -       1  \n",
      "  Type     A     B     C     D     E  Tongue  Winding-width  Winding-length  \\\n",
      "7   30  20.0  60.0  50.0  10.0  10.0    20.0           10.0            30.0   \n",
      "\n",
      "   K-ratio          Remarks  Fig-No  \n",
      "7   6000.0  4 Holes 3.96 mm       2  \n",
      "  Type      A      B      C      D      E  Tongue  Winding-width  \\\n",
      "8   31  22.22  66.67  65.56  11.11  11.11   22.22         11.115   \n",
      "\n",
      "   Winding-length     K-ratio Remarks  Fig-No  \n",
      "8           43.34  10703.9095       -       1  \n",
      "  Type     A     B     C     D     E  Tongue  Winding-width  Winding-length  \\\n",
      "9   15  25.4  76.2  63.3  12.7  12.7    25.4           12.7            37.9   \n",
      "\n",
      "     K-ratio          Remarks  Fig-No  \n",
      "9  12225.782  4 Holes 5.55 mm       2  \n",
      "   Type     A     B     C     D     E  Tongue  Winding-width  Winding-length  \\\n",
      "10   33  28.0  84.0  70.0  14.0  14.0    28.0           14.0            42.0   \n",
      "\n",
      "    K-ratio          Remarks  Fig-No  \n",
      "10  16464.0  4 Holes 4.36 mm       2  \n",
      "   Type      A      B      C      D      E  Tongue  Winding-width  \\\n",
      "11    3  31.75  94.25  79.37  15.87  15.87   31.75          15.38   \n",
      "\n",
      "    Winding-length      K-ratio          Remarks  Fig-No  \n",
      "11           47.63  23258.44345  4 Holes 5.55 mm       2  \n",
      "   Type     A      B      C      D      E  Tongue  Winding-width  \\\n",
      "12   16  38.1  114.3  95.25  19.05  19.05    38.1          19.05   \n",
      "\n",
      "    Winding-length      K-ratio          Remarks  Fig-No  \n",
      "12           57.15  41479.75575  4 Holes 5.55 mm       2  \n",
      "   Type     A      B      C      D      E  Tongue  Winding-width  \\\n",
      "13    6  38.1  127.0  114.3  19.05  19.05    38.1           25.4   \n",
      "\n",
      "    Winding-length    K-ratio          Remarks  Fig-No  \n",
      "13            76.2  73741.788  4 Holes 7.14 mm       2  \n",
      "   Type     A      B      C     D     E  Tongue  Winding-width  \\\n",
      "14   43  50.8  152.4  127.0  25.4  25.4    50.8           25.4   \n",
      "\n",
      "    Winding-length    K-ratio          Remarks  Fig-No  \n",
      "14            76.2  98322.384  4 Holes 6.74 mm       2  \n",
      "   Type     A       B       C     D     E  Tongue  Winding-width  \\\n",
      "15    8  50.8  184.15  171.45  25.4  25.4    50.8         41.275   \n",
      "\n",
      "    Winding-length      K-ratio          Remarks  Fig-No  \n",
      "15          120.65  252975.3005  4 Holes 9.52 mm       2  \n",
      "   Type     A       B       C     D     E  Tongue  Winding-width  \\\n",
      "16   8B  76.2  234.95  196.85  38.1  38.1    76.2         41.275   \n",
      "\n",
      "    Winding-length      K-ratio          Remarks  Fig-No  \n",
      "16          120.65  379462.9508  4 Holes 11.0 mm       2  \n",
      "   Type     A      B      C     D     E  Tongue  Winding-width  \\\n",
      "17   8C  76.2  234.9  317.2  37.9  38.2    76.2          41.45   \n",
      "\n",
      "    Winding-length     K-ratio          Remarks  Fig-No  \n",
      "17           240.8  760564.392  4 Holes 11.0 mm       2  \n",
      "    Type     A      B      C     D     E  Tongue  Winding-width  \\\n",
      "18  I180  60.0  180.0  150.0  30.0  30.0    60.0           30.0   \n",
      "\n",
      "    Winding-length   K-ratio          Remarks  Fig-No  \n",
      "18            90.0  162000.0  4 Holes 11.0 mm       2  \n",
      "    Type     A      B      C     D     E  Tongue  Winding-width  \\\n",
      "19  I120  40.0  120.0  100.0  20.0  20.0    40.0           20.0   \n",
      "\n",
      "    Winding-length  K-ratio          Remarks  Fig-No  \n",
      "19            60.0  48000.0  4 Holes 11.0 mm       2  \n",
      "   Type     A      B      C     D     E  Tongue  Winding-width  \\\n",
      "20  S14  88.7  267.0  222.0  44.5  44.5    88.7          44.65   \n",
      "\n",
      "    Winding-length     K-ratio          Remarks  Fig-No  \n",
      "20           133.0  526740.515  4 Holes 12.5 mm       2  \n",
      "   Type      A      B      C     D     E  Tongue  Winding-width  \\\n",
      "21  S12  100.0  304.0  254.0  51.0  51.0   100.0           51.0   \n",
      "\n",
      "    Winding-length   K-ratio          Remarks  Fig-No  \n",
      "21           152.0  775200.0  4 Holes 12.5 mm       2  \n",
      "   Type      A      B      C     D     E  Tongue  Winding-width  \\\n",
      "22  S15  126.0  380.0  316.0  63.5  63.5   126.0           63.5   \n",
      "\n",
      "    Winding-length    K-ratio          Remarks  Fig-No  \n",
      "22           189.0  1512189.0  4 Holes 12.5 mm       2  \n"
     ]
    }
   ],
   "source": [
    "for lamination in lamination_data['Type']:\n",
    "    selected_lamination = lamination_data[lamination_data['Type'] == lamination]\n",
    "    print(selected_lamination)"
   ]
  },
  {
   "cell_type": "code",
   "execution_count": 34,
   "metadata": {},
   "outputs": [
    {
     "name": "stdout",
     "output_type": "stream",
     "text": [
      "92.21497533367632, original AP: 153.6916255561272\n",
      "99.89955661148268, original AP: 153.6916255561272\n",
      "107.58413788928905, original AP: 153.6916255561272\n",
      "115.26871916709541, original AP: 153.6916255561272\n",
      "122.95330044490176, original AP: 153.6916255561272\n",
      "130.63788172270813, original AP: 153.6916255561272\n",
      "138.3224630005145, original AP: 153.6916255561272\n",
      "146.00704427832085, original AP: 153.6916255561272\n",
      "153.6916255561272, original AP: 153.6916255561272\n",
      "161.37620683393357, original AP: 153.6916255561272\n",
      "169.06078811173992, original AP: 153.6916255561272\n",
      "176.74536938954628, original AP: 153.6916255561272\n",
      "184.42995066735264, original AP: 153.6916255561272\n",
      "192.114531945159, original AP: 153.6916255561272\n",
      "199.79911322296536, original AP: 153.6916255561272\n",
      "207.48369450077175, original AP: 153.6916255561272\n"
     ]
    }
   ],
   "source": [
    "for x in range(60, 140, 5):\n",
    "    present_Area_product = x*Area_product*0.01\n",
    "    print(str(present_Area_product) + ', original AP: ' + str(Area_product))"
   ]
  },
  {
   "cell_type": "code",
   "execution_count": null,
   "metadata": {},
   "outputs": [],
   "source": []
  }
 ],
 "metadata": {
  "interpreter": {
   "hash": "31f2aee4e71d21fbe5cf8b01ff0e069b9275f58929596ceb00d14d90e3e16cd6"
  },
  "kernelspec": {
   "display_name": "Python 3.8.10 64-bit",
   "language": "python",
   "name": "python3"
  },
  "language_info": {
   "codemirror_mode": {
    "name": "ipython",
    "version": 3
   },
   "file_extension": ".py",
   "mimetype": "text/x-python",
   "name": "python",
   "nbconvert_exporter": "python",
   "pygments_lexer": "ipython3",
   "version": "3.8.10"
  },
  "orig_nbformat": 4
 },
 "nbformat": 4,
 "nbformat_minor": 2
}
