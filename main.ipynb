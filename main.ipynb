{
 "cells": [
  {
   "cell_type": "markdown",
   "metadata": {},
   "source": [
    "# Auto-Transformer"
   ]
  },
  {
   "cell_type": "markdown",
   "metadata": {},
   "source": [
    "## Input\n",
    "\n",
    "### User Input\n",
    "\n",
    "- Input Voltage $V_{in}$\n",
    "- Output Power $P_o=250$\n",
    "- Frequency $f=47$\n",
    "- Efficiency $\\eta=95\\%$\n",
    "- Operating flux density $B_{ac}$\n",
    "- Temperature rise goal, $T_r=30^oC$\n",
    "- Window utilization, $K_u=0.4$\n",
    "- Core Material = $Silicon M6X$\n",
    "- Lamination Number = $EI-150$\n",
    "- Current Density $J=250 [amps/cm^2]$\n",
    "\n",
    "### Constants \n",
    "\n",
    "- Window utilization $K_u$"
   ]
  },
  {
   "cell_type": "code",
   "execution_count": 2,
   "metadata": {},
   "outputs": [],
   "source": [
    "Frequency = 47 # Hz\n",
    "Temperature_rise_goal = 30 # degree Celcius\n",
    "Output_power = 250 # watts\n",
    "Efficiency = 95 # %"
   ]
  },
  {
   "cell_type": "markdown",
   "metadata": {},
   "source": [
    "\n",
    "## Apparent Power $P_t$\n",
    "\n",
    "Calculating the transformer apparent power, $P_t$\n",
    "\n",
    "$$ P_t=P_o(\\dfrac{1}{\\eta} + 1), [watts]$$\n",
    "\n",
    "$$P_t=250[(1/0.95)+1]$$\n",
    "\n",
    "$$P_t=513, [watts]$$"
   ]
  },
  {
   "cell_type": "code",
   "execution_count": 3,
   "metadata": {},
   "outputs": [
    {
     "name": "stdout",
     "output_type": "stream",
     "text": [
      "513.1578947368421\n"
     ]
    }
   ],
   "source": [
    "Apparent_power = Output_power * (1/(0.01*Efficiency) + 1)\n",
    "print(Apparent_power)"
   ]
  },
  {
   "cell_type": "markdown",
   "metadata": {},
   "source": [
    "## Calculation of Area Product\n",
    "\n",
    "$$J=\\dfrac{P_t (10^4)}{K_f K_u B_{ac} f A_p} $$\n",
    "\n",
    "$$A_p=\\dfrac{P_t (10^4)}{K_f K_u B_{ac} f J} $$\n",
    "\n",
    "For initial case :\n",
    "\n",
    "$$K_f = 4.44$$\n",
    "$$K_u = 0.4 $$\n",
    "$$B_{ac} = 1.6$$\n",
    "$$f= 47$$\n",
    "$$J=250$$"
   ]
  },
  {
   "cell_type": "code",
   "execution_count": 7,
   "metadata": {},
   "outputs": [
    {
     "name": "stdout",
     "output_type": "stream",
     "text": [
      "153.6916255561272\n"
     ]
    }
   ],
   "source": [
    "K_f = 4.44\n",
    "K_u = 0.4\n",
    "B_ac = 1.6\n",
    "J = 250\n",
    "Area_product = (Apparent_power*(10**4))/(K_f * K_u * B_ac * J * Frequency)\n",
    "print(Area_product)"
   ]
  },
  {
   "cell_type": "code",
   "execution_count": null,
   "metadata": {},
   "outputs": [],
   "source": []
  }
 ],
 "metadata": {
  "interpreter": {
   "hash": "31f2aee4e71d21fbe5cf8b01ff0e069b9275f58929596ceb00d14d90e3e16cd6"
  },
  "kernelspec": {
   "display_name": "Python 3.8.10 64-bit",
   "language": "python",
   "name": "python3"
  },
  "language_info": {
   "codemirror_mode": {
    "name": "ipython",
    "version": 3
   },
   "file_extension": ".py",
   "mimetype": "text/x-python",
   "name": "python",
   "nbconvert_exporter": "python",
   "pygments_lexer": "ipython3",
   "version": "3.8.10"
  },
  "orig_nbformat": 4
 },
 "nbformat": 4,
 "nbformat_minor": 2
}
