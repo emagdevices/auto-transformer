{
  "cells": [
    {
      "cell_type": "markdown",
      "metadata": {
        "id": "o4wL6WY2tDeF"
      },
      "source": [
        "## Input\n",
        "\n",
        "### User Input\n",
        "\n",
        "- Input Voltage $V_{in}$\n",
        "- Output Power $P_o=250$\n",
        "- Output Voltage, $V_o = 115$ volts\n",
        "- Frequency $f=47$\n",
        "- Efficiency $\\eta=95\\%$\n",
        "- Operating flux density $B_{ac}$\n",
        "- Temperature rise goal, $T_r=30^oC$\n",
        "- Window utilization, $K_u=0.4$\n",
        "- Core Material = $Silicon M6X$\n",
        "- Lamination Number = $EI-150$\n",
        "- Current Density $J=250 [amps/cm^2]$\n",
        "- Regulation $\\alpha = 5$ $\\%$\n",
        "\n",
        "### Constants \n",
        "\n",
        "- Window utilization $K_u$"
      ]
    },
    {
      "cell_type": "code",
      "execution_count": 2,
      "metadata": {
        "id": "DI6fpJM9tdES"
      },
      "outputs": [],
      "source": [
        "# Loading libraries\n",
        "import pandas as pd\n",
        "import numpy as np "
      ]
    },
    {
      "cell_type": "code",
      "execution_count": 3,
      "metadata": {
        "id": "-lrn2HKos_Zq"
      },
      "outputs": [],
      "source": [
        "Frequency = 47 # Hz\n",
        "Temperature_rise_goal = 30 # degree Celcius\n",
        "Output_power = 250 # watts\n",
        "Efficiency = 95 # %\n",
        "Input_voltage = 115\n",
        "Output_voltage = 115 # volts"
      ]
    },
    {
      "cell_type": "markdown",
      "metadata": {
        "id": "gtLZWFQ1sdK1"
      },
      "source": [
        "\n",
        "## Apparent Power $P_t$\n",
        "\n",
        "Calculating the transformer apparent power, $P_t$\n",
        "\n",
        "$$ P_t=P_o(\\dfrac{1}{\\eta} + 1), [watts]$$\n",
        "\n",
        "$$P_t=250[(1/0.95)+1]$$\n",
        "\n",
        "$$P_t=513, [watts]$$"
      ]
    },
    {
      "cell_type": "code",
      "execution_count": 4,
      "metadata": {
        "colab": {
          "base_uri": "https://localhost:8080/"
        },
        "id": "VY2Qc4IKtJtx",
        "outputId": "cbf3903d-fa68-4f0a-d17b-bdf4d0a1a76c"
      },
      "outputs": [
        {
          "name": "stdout",
          "output_type": "stream",
          "text": [
            "513.1578947368421\n"
          ]
        }
      ],
      "source": [
        "Apparent_power = Output_power * (1/(0.01*Efficiency) + 1)\n",
        "print(Apparent_power)"
      ]
    },
    {
      "cell_type": "markdown",
      "metadata": {
        "id": "Y0T1gtcLshdd"
      },
      "source": [
        "## Calculation of Area Product\n",
        "\n",
        "$$J=\\dfrac{P_t (10^4)}{K_f K_u B_{ac} f A_p} $$\n",
        "\n",
        "$$A_p=\\dfrac{P_t (10^4)}{K_f K_u B_{ac} f J} $$\n",
        "\n",
        "$A_p$ is in $cm^4$ \n",
        "\n",
        "For initial case :\n",
        "\n",
        "$$K_f = 4.44$$\n",
        "$$K_u = 0.4 $$\n",
        "$$B_{ac} = 1.6$$\n",
        "$$f= 47$$\n",
        "$$J=250$$"
      ]
    },
    {
      "cell_type": "code",
      "execution_count": 5,
      "metadata": {
        "colab": {
          "base_uri": "https://localhost:8080/"
        },
        "id": "FNLFt4GStLun",
        "outputId": "55fe50ac-b8b9-4cfe-abb0-c99aa4050d42"
      },
      "outputs": [
        {
          "name": "stdout",
          "output_type": "stream",
          "text": [
            "1536916.2555612721\n"
          ]
        }
      ],
      "source": [
        "K_f = 4.44 \n",
        "K_u = 0.4\n",
        "B_ac = 1.6\n",
        "J = 250\n",
        "Area_product = (Apparent_power*(10**4))/(K_f * K_u * B_ac * J * Frequency)\n",
        "Area_product *= 10**4\n",
        "print(Area_product) # mm^4"
      ]
    },
    {
      "cell_type": "code",
      "execution_count": 6,
      "metadata": {
        "colab": {
          "base_uri": "https://localhost:8080/"
        },
        "id": "QMcLti5xuGh0",
        "outputId": "58ba0cda-c227-4a47-91db-de8a988425e4"
      },
      "outputs": [
        {
          "data": {
            "text/plain": [
              "0     SB1R\n",
              "1     SB3R\n",
              "2       17\n",
              "3       74\n",
              "4      12A\n",
              "5       74\n",
              "6       23\n",
              "7       30\n",
              "8       31\n",
              "9       15\n",
              "10      33\n",
              "11       3\n",
              "12      16\n",
              "13       6\n",
              "14      43\n",
              "15       8\n",
              "16      8B\n",
              "17      8C\n",
              "18    I180\n",
              "19    I120\n",
              "20     S14\n",
              "21     S12\n",
              "22     S15\n",
              "23      16\n",
              "24      43\n",
              "25    S197\n",
              "26    S222\n",
              "Name: Type, dtype: object"
            ]
          },
          "execution_count": 6,
          "metadata": {},
          "output_type": "execute_result"
        }
      ],
      "source": [
        "lamination_data = pd.read_csv('EI-Laminations.csv')\n",
        "lamination_data['Type']"
      ]
    },
    {
      "cell_type": "code",
      "execution_count": 7,
      "metadata": {
        "colab": {
          "base_uri": "https://localhost:8080/",
          "height": 142
        },
        "id": "qNEqMSvKuQ42",
        "outputId": "f777607f-c9df-4d98-fc12-4de5e012a3f1"
      },
      "outputs": [
        {
          "data": {
            "text/html": [
              "<div>\n",
              "<style scoped>\n",
              "    .dataframe tbody tr th:only-of-type {\n",
              "        vertical-align: middle;\n",
              "    }\n",
              "\n",
              "    .dataframe tbody tr th {\n",
              "        vertical-align: top;\n",
              "    }\n",
              "\n",
              "    .dataframe thead th {\n",
              "        text-align: right;\n",
              "    }\n",
              "</style>\n",
              "<table border=\"1\" class=\"dataframe\">\n",
              "  <thead>\n",
              "    <tr style=\"text-align: right;\">\n",
              "      <th></th>\n",
              "      <th>Type</th>\n",
              "      <th>A</th>\n",
              "      <th>B</th>\n",
              "      <th>C</th>\n",
              "      <th>D</th>\n",
              "      <th>E</th>\n",
              "      <th>Tongue</th>\n",
              "      <th>Winding-width</th>\n",
              "      <th>Winding-length</th>\n",
              "      <th>K-ratio</th>\n",
              "      <th>Remarks</th>\n",
              "      <th>Fig-No</th>\n",
              "    </tr>\n",
              "  </thead>\n",
              "  <tbody>\n",
              "    <tr>\n",
              "      <th>4</th>\n",
              "      <td>12A</td>\n",
              "      <td>15.87</td>\n",
              "      <td>47.62</td>\n",
              "      <td>38.68</td>\n",
              "      <td>7.93</td>\n",
              "      <td>7.93</td>\n",
              "      <td>15.87</td>\n",
              "      <td>7.945</td>\n",
              "      <td>22.82</td>\n",
              "      <td>2877.308763</td>\n",
              "      <td>-</td>\n",
              "      <td>1</td>\n",
              "    </tr>\n",
              "  </tbody>\n",
              "</table>\n",
              "</div>"
            ],
            "text/plain": [
              "  Type      A      B      C     D     E  Tongue  Winding-width  \\\n",
              "4  12A  15.87  47.62  38.68  7.93  7.93   15.87          7.945   \n",
              "\n",
              "   Winding-length      K-ratio Remarks  Fig-No  \n",
              "4           22.82  2877.308763       -       1  "
            ]
          },
          "execution_count": 7,
          "metadata": {},
          "output_type": "execute_result"
        }
      ],
      "source": [
        "selected_lamination = lamination_data[lamination_data['Type'] == '12A']\n",
        "selected_lamination"
      ]
    },
    {
      "cell_type": "markdown",
      "metadata": {
        "id": "1Z80lMoWvJGQ"
      },
      "source": [
        "Find stack and cost for 60% of Area product\n",
        "\n",
        "Increase stack by 5mm and find the cost until Area product < 1.4 * Area product\n"
      ]
    },
    {
      "cell_type": "code",
      "execution_count": 8,
      "metadata": {
        "colab": {
          "base_uri": "https://localhost:8080/"
        },
        "id": "POenobnOuzqy",
        "outputId": "7748682e-8531-4dbe-ba14-48c6d569f82d"
      },
      "outputs": [
        {
          "data": {
            "text/plain": [
              "4    2877.308763\n",
              "Name: K-ratio, dtype: float64"
            ]
          },
          "execution_count": 8,
          "metadata": {},
          "output_type": "execute_result"
        }
      ],
      "source": [
        "selected_lamination_k = selected_lamination['K-ratio']\n",
        "selected_lamination_k"
      ]
    },
    {
      "cell_type": "code",
      "execution_count": 9,
      "metadata": {
        "colab": {
          "base_uri": "https://localhost:8080/"
        },
        "id": "x3MiP0UlFI6U",
        "outputId": "7d5f7c10-9d78-4c6e-a72f-af7fda730ccd"
      },
      "outputs": [
        {
          "data": {
            "text/plain": [
              "4    15.87\n",
              "Name: Tongue, dtype: float64"
            ]
          },
          "execution_count": 9,
          "metadata": {},
          "output_type": "execute_result"
        }
      ],
      "source": [
        "selected_lamination_tongue = selected_lamination['Tongue']\n",
        "selected_lamination_tongue"
      ]
    },
    {
      "cell_type": "markdown",
      "metadata": {
        "id": "YqIlvs2GxNVh"
      },
      "source": [
        "if stack is greater than 5 * Tongue then discard that stack."
      ]
    },
    {
      "cell_type": "code",
      "execution_count": 10,
      "metadata": {
        "colab": {
          "base_uri": "https://localhost:8080/"
        },
        "id": "xx8HMh13wHXX",
        "outputId": "3a4a6f83-d21c-44ce-a9fb-dd3315cc6533"
      },
      "outputs": [
        {
          "name": "stdout",
          "output_type": "stream",
          "text": [
            "320.0\n",
            "325.0\n",
            "Stack:  320.0\n",
            "Tongue: 15.87\n"
          ]
        }
      ],
      "source": [
        "stack = .6 * Area_product/ selected_lamination_k \n",
        "# if we print stack we will get  0 stack in series dtype \n",
        "# for assesing the value we will use .max() \n",
        "stack = stack.max()\n",
        "\n",
        "# now for getting stack stack in multiple of 5 \n",
        "if stack%5 == 0:\n",
        "  print(stack)\n",
        "else:\n",
        "  stack = stack - stack % 5\n",
        "  print(stack)\n",
        "  print(stack + 5)\n",
        "\n",
        "# let's check the stack condition using tongue \n",
        "print('Stack:  ' + str(stack))\n",
        "print('Tongue: ' + str(selected_lamination_tongue.max()))"
      ]
    },
    {
      "cell_type": "markdown",
      "metadata": {
        "id": "XTTO-F9Xy8yk"
      },
      "source": [
        "## Primary turns\n",
        "\n",
        "$$A_c = tongue*stack$$\n",
        "\n"
      ]
    },
    {
      "cell_type": "code",
      "execution_count": 11,
      "metadata": {
        "id": "humc1HNUwWu0"
      },
      "outputs": [],
      "source": [
        "tongue = selected_lamination['Tongue']\n",
        "A_c = tongue * stack "
      ]
    },
    {
      "cell_type": "markdown",
      "metadata": {
        "id": "oeHsnvRfzbro"
      },
      "source": [
        "$$N_p = \\dfrac{ V_{in}}{K_f B_{ac} f A_c}$$"
      ]
    },
    {
      "cell_type": "code",
      "execution_count": 12,
      "metadata": {
        "colab": {
          "base_uri": "https://localhost:8080/"
        },
        "id": "xSl-mwJUzbLp",
        "outputId": "c6ca09e1-ac8c-4350-d641-f91ba33f2855"
      },
      "outputs": [
        {
          "name": "stdout",
          "output_type": "stream",
          "text": [
            "4    0.000068\n",
            "Name: Tongue, dtype: float64\n"
          ]
        }
      ],
      "source": [
        "primary_turns = (Input_voltage)/(K_f* B_ac* Frequency* A_c)\n",
        "print(primary_turns)"
      ]
    },
    {
      "cell_type": "markdown",
      "metadata": {
        "id": "3S2WmQC61Suu"
      },
      "source": [
        "## From step 7 to everything\n",
        "\n",
        "**Input Current $I_{in}$**\n",
        "\n",
        "$$I_{in} = P_o $$"
      ]
    },
    {
      "cell_type": "markdown",
      "metadata": {
        "id": "YNn7s1aR1vSJ"
      },
      "source": [
        "**Calculate the primary bare wire area**\n",
        "\n",
        "**Select the wire from Wire Table**\n",
        "\n",
        "**Mean Turn Length**\n"
      ]
    },
    {
      "cell_type": "code",
      "execution_count": null,
      "metadata": {
        "id": "IJIXlpX10o3y"
      },
      "outputs": [],
      "source": []
    },
    {
      "cell_type": "markdown",
      "metadata": {
        "id": "bUTNlyUI2Sot"
      },
      "source": [
        "**Turns per layer (TPL)_p**\n",
        "\n",
        "TPL = wl/(diameter of wire) with insulation"
      ]
    },
    {
      "cell_type": "markdown",
      "metadata": {
        "id": "aVJIuzcm2ZdZ"
      },
      "source": [
        "**Number of Layers Primary**\n",
        "\n",
        "$$Number of turns primary / Turns per layer primary$$"
      ]
    },
    {
      "cell_type": "markdown",
      "metadata": {
        "id": "_kgCK5SU28g-"
      },
      "source": [
        "**Bobbin_thicknes**\n",
        "\n",
        "bobbin_thickness is a user defined input\n",
        "\n",
        "let's take bobbin_thickness = 1.5"
      ]
    },
    {
      "cell_type": "markdown",
      "metadata": {
        "id": "F7utBIFw3wuN"
      },
      "source": [
        "**Built**\n",
        "\n",
        "$$ Built = \\dfrac{bobbinthickness + Number of layers primary}{Diameter of wire primary(insulation  enamel)}$$\n",
        "\n",
        "- this diameter is with insulation"
      ]
    },
    {
      "cell_type": "markdown",
      "metadata": {
        "id": "6o8AkYLq4WQk"
      },
      "source": [
        "**SWG of wire gauge**\n",
        "\n",
        "**MTL (Mean turn length)**\n",
        "\n",
        "$$ MTL = 2*(tongue + stack + 2 * built) $$"
      ]
    },
    {
      "cell_type": "markdown",
      "metadata": {
        "id": "tqYoqpsg5GWY"
      },
      "source": [
        "*Length of primary wire = MTL * (number of priamry turns)*"
      ]
    },
    {
      "cell_type": "markdown",
      "metadata": {
        "id": "9Ej9TyD55i6_"
      },
      "source": [
        "**Primary Resistence**\n",
        "\n",
        "\n",
        "\n",
        "Resistance of primary = Resistivity of Cu * length of primary / Bare primary area"
      ]
    },
    {
      "cell_type": "markdown",
      "metadata": {
        "id": "0C9gX_Mp6gvo"
      },
      "source": [
        "**Primary of Copper  Loss**\n",
        "\n",
        "primary Cu loss = $I_{primary}^2$ * (Priamary Resistence)"
      ]
    },
    {
      "cell_type": "markdown",
      "metadata": {
        "id": "KqxE6J3l8tMF"
      },
      "source": [
        "## Secondary "
      ]
    },
    {
      "cell_type": "markdown",
      "metadata": {
        "id": "sPNFgLYF7EXB"
      },
      "source": [
        "**Calculate secondary turns**\n",
        "\n",
        "Secondary turns (Ns) = Primary_turns * secondary voltage* (1+regulation/100)/ primary voltage\n",
        "\n",
        "**Secondary bare wire area**\n",
        "\n",
        "Secondary bare wire area = secondary current ($I_s$) / Current Density ($J$)\n",
        "\n",
        "**From sec bare area, select secondary SWG**\n",
        "\n",
        "**Turns per layer secondary**\n",
        "\n",
        "Turns per layer secondary = wl/ (diameter of wire secondary)\n",
        "\n",
        "**Number of layers secondary**\n",
        "\n",
        "Number of layers secondary = secondary turns ($N_s$) / Turns per layer secondary\n",
        "\n",
        "**Built secondary**\n",
        "\n",
        "Built secondary = Number of layer secondary + insulation_thickness\n",
        "\n",
        "**Insulation thickness is user defined with default value 0.2mm**\n",
        "\n",
        "**Mean Turn Length Secondary**\n",
        "\n",
        "Mean turn Length seoncary ($MLT_s$) = 2 *(tongue + stack + 4 * built_primary + 2 * built_secondary)\n",
        "\n",
        "**Length of Wire secondary**\n",
        "\n",
        "Length of Wire Secondary = $MLT_{secondary}$ * Secondary_turns\n",
        "\n",
        "**Secondary Resistence ($R_s$)**\n",
        "\n",
        "Secondary Resistence = $\\rho$ * (length of secondary) / (bare area secondary)\n",
        "\n",
        "$\\rho$ - resistivity of Copper (*Cu*)\n",
        "\n",
        "**Secondary Copper Loss**\n",
        "\n",
        "Secondary Cu loss = $I_{secondary}^2$ * $R_{secondary}$\n",
        "\n",
        "**Total Cu loss**j\n",
        "\n",
        "Calculate total Cu loss = Primary Cu loss + Secondary Cu loss\n",
        "\n",
        " **Core Loss**\n",
        "\n",
        " core loss = (Core loss factor) * Weight (Wt) of core\n",
        "\n",
        "- core loss factor = 0.000557 * $f^a * f^b$\n",
        "  - $f$ - frequency\n",
        "  - a = 1.68\n",
        "  - b = 1.86\n",
        "\n",
        "**Weight of Core**\n",
        "\n",
        "Wt of core = density of core * volume of core\n",
        "\n",
        "density of core = density of iron * 0.97\n",
        "\n",
        "**Volume of core is to be calculated from the EI lamination diagram**\n",
        "\n",
        "\n",
        "Volume of core = stack *[ B * C-2 * ww * wl ]\n",
        "\n",
        "\n",
        "**Watts per unit area**\n",
        "\n",
        "Watts per unit area (Ψ) = Total Loss / Total Surface Area\n",
        "\n",
        "**Temperature rise**\n",
        "\n",
        "Temperature rise ($T_r$) = 450 *  $Ψ^{0.826}$\n",
        "\n",
        "**Total surface area**\n",
        "\n",
        "total surface area = 2 * [B * C + B * (stack + 2 * total_built) + C * (stack + 2 * total_built)]"
      ]
    },
    {
      "cell_type": "markdown",
      "metadata": {
        "id": "HRV_uPHUBq_D"
      },
      "source": [
        "Now,\n",
        "\n",
        "We need to check *Winding width* > *total built* \n",
        "\n",
        "If the above condition is not true, the design won't be phisically possible to manufacture \n",
        "\n",
        "\n"
      ]
    },
    {
      "cell_type": "markdown",
      "metadata": {
        "id": "a8wnVvrzCBWR"
      },
      "source": [
        "## Cost \n",
        "\n"
      ]
    },
    {
      "cell_type": "markdown",
      "metadata": {
        "id": "Jlq8vdxRlphr"
      },
      "source": [
        "\n",
        "Cost = Wt of Cu * Rate of Cu + Wt of iron * rate of iron \n",
        "\n",
        "Note : Wt of Core is nothing but wt of iron\n",
        "\n",
        "**Rate of Cu: 950 Rs/Kg**\n",
        "\n",
        "**Rate of Iron = 250/Kg**"
      ]
    },
    {
      "cell_type": "code",
      "execution_count": null,
      "metadata": {
        "id": "VCRFLU_Z712i"
      },
      "outputs": [],
      "source": []
    },
    {
      "cell_type": "markdown",
      "metadata": {
        "id": "CtsGl0Kb1HyD"
      },
      "source": [
        "## Cost Function\n",
        "\n",
        "cost = "
      ]
    },
    {
      "cell_type": "code",
      "execution_count": null,
      "metadata": {
        "id": "RExqMtPo4gtu"
      },
      "outputs": [],
      "source": []
    }
  ],
  "metadata": {
    "colab": {
      "collapsed_sections": [
        "XTTO-F9Xy8yk",
        "CtsGl0Kb1HyD"
      ],
      "name": "Auto-transformer.ipynb",
      "provenance": []
    },
    "kernelspec": {
      "display_name": "Python 3",
      "name": "python3"
    },
    "language_info": {
      "codemirror_mode": {
        "name": "ipython",
        "version": 3
      },
      "file_extension": ".py",
      "mimetype": "text/x-python",
      "name": "python",
      "nbconvert_exporter": "python",
      "pygments_lexer": "ipython3",
      "version": "3.8.10"
    }
  },
  "nbformat": 4,
  "nbformat_minor": 0
}
